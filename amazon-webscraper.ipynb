{
 "cells": [
  {
   "cell_type": "code",
   "execution_count": 6,
   "id": "6d0ff422",
   "metadata": {},
   "outputs": [],
   "source": [
    "import requests\n",
    "import pandas as pd\n",
    "from bs4 import BeautifulSoup"
   ]
  },
  {
   "cell_type": "code",
   "execution_count": 8,
   "id": "5ba447e7",
   "metadata": {},
   "outputs": [],
   "source": [
    "URL = \"https://www.amazon.com/s?k=camera&crid=32X3CX00DA652&sprefix=camer%2Caps%2C560&ref=nb_sb_noss_2\""
   ]
  },
  {
   "cell_type": "code",
   "execution_count": 9,
   "id": "d30d4556",
   "metadata": {},
   "outputs": [],
   "source": [
    "# Headers for request\n",
    "HEADERS = ({'user-agent': 'Mozilla/5.0 (Windows NT 10.0; Win64; x64) AppleWebKit/537.36 (KHTML, like Gecko) Chrome/110.0.0.0 Safari/537.36', 'Accept-Language': 'en-US, en;q=0.5'})"
   ]
  },
  {
   "cell_type": "code",
   "execution_count": 22,
   "id": "f583fe6f",
   "metadata": {},
   "outputs": [],
   "source": [
    "# Request\n",
    "webpage = requests.get(URL, headers=HEADERS)"
   ]
  },
  {
   "cell_type": "code",
   "execution_count": 21,
   "id": "f77bfb80",
   "metadata": {},
   "outputs": [],
   "source": [
    "#assert that response code is 2** (ok)\n",
    "\n",
    "assert webpage.ok"
   ]
  },
  {
   "cell_type": "code",
   "execution_count": 23,
   "id": "aca28474",
   "metadata": {},
   "outputs": [
    {
     "data": {
      "text/plain": [
       "<Response [200]>"
      ]
     },
     "execution_count": 23,
     "metadata": {},
     "output_type": "execute_result"
    }
   ],
   "source": [
    "webpage"
   ]
  },
  {
   "cell_type": "code",
   "execution_count": 25,
   "id": "7a6c010c",
   "metadata": {},
   "outputs": [
    {
     "data": {
      "text/plain": [
       "bytes"
      ]
     },
     "execution_count": 25,
     "metadata": {},
     "output_type": "execute_result"
    }
   ],
   "source": [
    "type(webpage.content)"
   ]
  },
  {
   "cell_type": "code",
   "execution_count": 28,
   "id": "459868f1",
   "metadata": {},
   "outputs": [],
   "source": [
    "#convert received byte object into html\n",
    "soup = BeautifulSoup(webpage.content, \"html.parser\")"
   ]
  },
  {
   "cell_type": "code",
   "execution_count": 33,
   "id": "8e684b25",
   "metadata": {},
   "outputs": [],
   "source": [
    "# list all a tag objects\n",
    "links = soup.find_all(\"a\", attrs={'class': 'a-link-normal s-underline-text s-underline-link-text s-link-style a-text-normal'})"
   ]
  },
  {
   "cell_type": "code",
   "execution_count": 34,
   "id": "5ad2f0a0",
   "metadata": {},
   "outputs": [
    {
     "data": {
      "text/plain": [
       "[<a class=\"a-link-normal s-underline-text s-underline-link-text s-link-style a-text-normal\" href=\"/Digital-Compact-Portable-Students-Seniors/dp/B0B754K6Y8/ref=sr_1_1?crid=32X3CX00DA652&amp;keywords=camera&amp;qid=1678364587&amp;sprefix=camer%2Caps%2C560&amp;sr=8-1\"><span class=\"a-size-medium a-color-base a-text-normal\">Digital Camera, FHD 1080P Digital Camera for Kids Video Camera with 32GB SD Card 16X Digital Zoom, Compact Point and Shoot Camera Portable Small Camera for Teens Students Boys Girls Seniors(Black)</span> </a>,\n",
       " <a class=\"a-link-normal s-underline-text s-underline-link-text s-link-style a-text-normal\" href=\"/Canon-Rebel-T7-18-55mm-II/dp/B07C2Z21X5/ref=sr_1_2?crid=32X3CX00DA652&amp;keywords=camera&amp;qid=1678364587&amp;sprefix=camer%2Caps%2C560&amp;sr=8-2\"><span class=\"a-size-medium a-color-base a-text-normal\">Canon EOS Rebel T7 DSLR Camera with 18-55mm Lens | Built-in Wi-Fi | 24.1 MP CMOS Sensor | DIGIC 4+ Image Processor and Full HD Videos</span> </a>,\n",
       " <a class=\"a-link-normal s-underline-text s-underline-link-text s-link-style a-text-normal\" href=\"/VETEK-Autofocus-Camcorder-Photography-Wide-Angle/dp/B097LKT7MK/ref=sr_1_3?crid=32X3CX00DA652&amp;keywords=camera&amp;qid=1678364587&amp;sprefix=camer%2Caps%2C560&amp;sr=8-3\"><span class=\"a-size-medium a-color-base a-text-normal\">Digital Cameras for Photography, 4K 48MP Vlogging Camera 16X Digital Zoom Manual Focus Rechargeable Students Compact Camera with 52mm Wide-Angle Lens &amp; Macro Lens, 32G Micro Card and 2 Batteries</span> </a>,\n",
       " <a class=\"a-link-normal s-underline-text s-underline-link-text s-link-style a-text-normal\" href=\"/gp/slredirect/picassoRedirect.html/ref=pa_sp_search_thematic_aps_sr_pg1_3?ie=UTF8&amp;bwType=search&amp;bwAsin=B01BGBJ8Y0&amp;qualifier=1678364587&amp;id=5602565060049563&amp;widgetName=sp_search_thematic&amp;url=%2FLogitech-Widescreen-Correction-Noise-Reducing-FaceTime%2Fdp%2FB01BGBJ8Y0%2Fref%3Dsxin_17_pa_sp_search_thematic-asin_sspa%3Fcontent-id%3Damzn1.sym.139755fc-e653-4f77-9e36-97d145a75e7c%253Aamzn1.sym.139755fc-e653-4f77-9e36-97d145a75e7c%26crid%3D32X3CX00DA652%26cv_ct_cx%3Dcamera%26keywords%3Dcamera%26pd_rd_i%3DB01BGBJ8Y0%26pd_rd_r%3D0bf4cf61-d4ad-4c33-afac-87f1a702518c%26pd_rd_w%3Dml978%26pd_rd_wg%3DIvpE9%26pf_rd_p%3D139755fc-e653-4f77-9e36-97d145a75e7c%26pf_rd_r%3D7DRVJBPP23MCNFV3D64S%26qid%3D1678364587%26sbo%3DRZvfv%252F%252FHxDF%252BO5021pAnSA%253D%253D%26sprefix%3Dcamer%252Caps%252C560%26sr%3D1-1-4a643ae4-6005-4b15-bc31-2c5125e2b25b-spons%26psc%3D1\"><span class=\"a-size-base-plus a-color-base a-text-normal\">Logitech C270 HD Webcam, 720p/30fps, Widescreen HD Video Calling, HD Light Correction, Noise-Reducing Mic, for Skype, FaceTime, Hangouts, WebEx, PC/Mac/Laptop/MacBook/Tablet - Black</span> </a>,\n",
       " <a class=\"a-link-normal s-underline-text s-underline-link-text s-link-style a-text-normal\" href=\"/gp/slredirect/picassoRedirect.html/ref=pa_sp_search_thematic_aps_sr_pg1_4?ie=UTF8&amp;bwType=search&amp;bwAsin=B085TFF7M1&amp;qualifier=1678364587&amp;id=5602565060049563&amp;widgetName=sp_search_thematic&amp;url=%2FLogitech-C920x-Pro-HD-Webcam%2Fdp%2FB085TFF7M1%2Fref%3Dsxin_17_pa_sp_search_thematic-asin_sspa%3Fcontent-id%3Damzn1.sym.139755fc-e653-4f77-9e36-97d145a75e7c%253Aamzn1.sym.139755fc-e653-4f77-9e36-97d145a75e7c%26crid%3D32X3CX00DA652%26cv_ct_cx%3Dcamera%26keywords%3Dcamera%26pd_rd_i%3DB085TFF7M1%26pd_rd_r%3D0bf4cf61-d4ad-4c33-afac-87f1a702518c%26pd_rd_w%3Dml978%26pd_rd_wg%3DIvpE9%26pf_rd_p%3D139755fc-e653-4f77-9e36-97d145a75e7c%26pf_rd_r%3D7DRVJBPP23MCNFV3D64S%26qid%3D1678364587%26sbo%3DRZvfv%252F%252FHxDF%252BO5021pAnSA%253D%253D%26sprefix%3Dcamer%252Caps%252C560%26sr%3D1-2-4a643ae4-6005-4b15-bc31-2c5125e2b25b-spons%26psc%3D1\"><span class=\"a-size-base-plus a-color-base a-text-normal\">Logitech C920x HD Pro Webcam, Full HD 1080p/30fps Video Calling, Clear Stereo Audio, HD Light Correction, Works with Skype, Zoom, FaceTime, Hangouts, PC/Mac/Laptop/Macbook/Tablet - Black</span> </a>,\n",
       " <a class=\"a-link-normal s-underline-text s-underline-link-text s-link-style a-text-normal\" href=\"/gp/slredirect/picassoRedirect.html/ref=pa_sp_search_thematic_aps_sr_pg1_5?ie=UTF8&amp;bwType=search&amp;bwAsin=B01N5UOYC4&amp;qualifier=1678364587&amp;id=5602565060049563&amp;widgetName=sp_search_thematic&amp;url=%2FLogitech-Calling-Noise-Canceling-Correction-Microsoft%2Fdp%2FB01N5UOYC4%2Fref%3Dsxin_17_pa_sp_search_thematic-asin_sspa%3Fcontent-id%3Damzn1.sym.139755fc-e653-4f77-9e36-97d145a75e7c%253Aamzn1.sym.139755fc-e653-4f77-9e36-97d145a75e7c%26crid%3D32X3CX00DA652%26cv_ct_cx%3Dcamera%26keywords%3Dcamera%26pd_rd_i%3DB01N5UOYC4%26pd_rd_r%3D0bf4cf61-d4ad-4c33-afac-87f1a702518c%26pd_rd_w%3Dml978%26pd_rd_wg%3DIvpE9%26pf_rd_p%3D139755fc-e653-4f77-9e36-97d145a75e7c%26pf_rd_r%3D7DRVJBPP23MCNFV3D64S%26qid%3D1678364587%26sbo%3DRZvfv%252F%252FHxDF%252BO5021pAnSA%253D%253D%26sprefix%3Dcamer%252Caps%252C560%26sr%3D1-3-4a643ae4-6005-4b15-bc31-2c5125e2b25b-spons%26psc%3D1\"><span class=\"a-size-base-plus a-color-base a-text-normal\">Logitech Brio 4K Webcam, Ultra 4K HD Video Calling, Noise-Canceling mic, HD Auto Light Correction, Wide Field of View, Works with Microsoft Teams, Zoom, Google Voice, PC/Mac/Laptop/Macbook/Tablet</span> </a>,\n",
       " <a class=\"a-link-normal s-underline-text s-underline-link-text s-link-style a-text-normal\" href=\"/gp/slredirect/picassoRedirect.html/ref=pa_sp_search_thematic_aps_sr_pg1_6?ie=UTF8&amp;bwType=search&amp;bwAsin=B003PAOAWG&amp;qualifier=1678364587&amp;id=5602565060049563&amp;widgetName=sp_search_thematic&amp;url=%2FLogitech-960-000694-HD-WEBCAM-C270%2Fdp%2FB003PAOAWG%2Fref%3Dsxin_17_pa_sp_search_thematic-asin_sspa%3Fcontent-id%3Damzn1.sym.139755fc-e653-4f77-9e36-97d145a75e7c%253Aamzn1.sym.139755fc-e653-4f77-9e36-97d145a75e7c%26crid%3D32X3CX00DA652%26cv_ct_cx%3Dcamera%26keywords%3Dcamera%26pd_rd_i%3DB003PAOAWG%26pd_rd_r%3D0bf4cf61-d4ad-4c33-afac-87f1a702518c%26pd_rd_w%3Dml978%26pd_rd_wg%3DIvpE9%26pf_rd_p%3D139755fc-e653-4f77-9e36-97d145a75e7c%26pf_rd_r%3D7DRVJBPP23MCNFV3D64S%26qid%3D1678364587%26sbo%3DRZvfv%252F%252FHxDF%252BO5021pAnSA%253D%253D%26sprefix%3Dcamer%252Caps%252C560%26sr%3D1-4-4a643ae4-6005-4b15-bc31-2c5125e2b25b-spons%26psc%3D1\"><span class=\"a-size-base-plus a-color-base a-text-normal\">Logitech Hd Webcam C270, 720p Widescreen Video Calling &amp; Recording (960-000694), 3.15 Lb</span> </a>,\n",
       " <a class=\"a-link-normal s-underline-text s-underline-link-text s-link-style a-text-normal\" href=\"/gp/slredirect/picassoRedirect.html/ref=pa_sp_search_thematic_aps_sr_pg1_7?ie=UTF8&amp;bwType=search&amp;bwAsin=B01L6L52K4&amp;qualifier=1678364587&amp;id=5602565060049563&amp;widgetName=sp_search_thematic&amp;url=%2FLogitech-C922-1080pixels-Black-webcam%2Fdp%2FB01L6L52K4%2Fref%3Dsxin_17_pa_sp_search_thematic-asin_sspa%3Fcontent-id%3Damzn1.sym.139755fc-e653-4f77-9e36-97d145a75e7c%253Aamzn1.sym.139755fc-e653-4f77-9e36-97d145a75e7c%26crid%3D32X3CX00DA652%26cv_ct_cx%3Dcamera%26keywords%3Dcamera%26pd_rd_i%3DB01L6L52K4%26pd_rd_r%3D0bf4cf61-d4ad-4c33-afac-87f1a702518c%26pd_rd_w%3Dml978%26pd_rd_wg%3DIvpE9%26pf_rd_p%3D139755fc-e653-4f77-9e36-97d145a75e7c%26pf_rd_r%3D7DRVJBPP23MCNFV3D64S%26qid%3D1678364587%26sbo%3DRZvfv%252F%252FHxDF%252BO5021pAnSA%253D%253D%26sprefix%3Dcamer%252Caps%252C560%26sr%3D1-5-4a643ae4-6005-4b15-bc31-2c5125e2b25b-spons%26psc%3D1\"><span class=\"a-size-base-plus a-color-base a-text-normal\">Logitech C922 1920 x 1080pixels USB Black Webcam</span> </a>,\n",
       " <a class=\"a-link-normal s-underline-text s-underline-link-text s-link-style a-text-normal\" href=\"/gp/slredirect/picassoRedirect.html/ref=pa_sp_search_thematic_aps_sr_pg1_8?ie=UTF8&amp;bwType=search&amp;bwAsin=B004YW7WCY&amp;qualifier=1678364587&amp;id=5602565060049563&amp;widgetName=sp_search_thematic&amp;url=%2FLogitech-Laptop-Webcam-Design-360-Degree%2Fdp%2FB004YW7WCY%2Fref%3Dsxin_17_pa_sp_search_thematic-asin_sspa%3Fcontent-id%3Damzn1.sym.139755fc-e653-4f77-9e36-97d145a75e7c%253Aamzn1.sym.139755fc-e653-4f77-9e36-97d145a75e7c%26crid%3D32X3CX00DA652%26cv_ct_cx%3Dcamera%26keywords%3Dcamera%26pd_rd_i%3DB004YW7WCY%26pd_rd_r%3D0bf4cf61-d4ad-4c33-afac-87f1a702518c%26pd_rd_w%3Dml978%26pd_rd_wg%3DIvpE9%26pf_rd_p%3D139755fc-e653-4f77-9e36-97d145a75e7c%26pf_rd_r%3D7DRVJBPP23MCNFV3D64S%26qid%3D1678364587%26sbo%3DRZvfv%252F%252FHxDF%252BO5021pAnSA%253D%253D%26sprefix%3Dcamer%252Caps%252C560%26sr%3D1-6-4a643ae4-6005-4b15-bc31-2c5125e2b25b-spons%26psc%3D1\"><span class=\"a-size-base-plus a-color-base a-text-normal\">Logitech HD Laptop Webcam C615 with Fold-and-Go Design, 360-Degree Swivel, 1080p Camera</span> </a>,\n",
       " <a class=\"a-link-normal s-underline-text s-underline-link-text s-link-style a-text-normal\" href=\"/gp/slredirect/picassoRedirect.html/ref=pa_sp_search_thematic_aps_sr_pg1_1?ie=UTF8&amp;adId=A008038630J154CMIP0M2&amp;qualifier=1678364587&amp;id=1556539800677712&amp;widgetName=sp_search_thematic&amp;url=%2FDesuccus-Camera-Digital-Birthday-Toddler%2Fdp%2FB08FX68GFT%2Fref%3Dsxin_18_pa_sp_search_thematic_sspa%3Fcontent-id%3Damzn1.sym.7d3565f6-486c-4f98-bc2a-f2305ada855d%253Aamzn1.sym.7d3565f6-486c-4f98-bc2a-f2305ada855d%26crid%3D32X3CX00DA652%26cv_ct_cx%3Dcamera%26keywords%3Dcamera%26pd_rd_i%3DB08FX68GFT%26pd_rd_r%3D0bf4cf61-d4ad-4c33-afac-87f1a702518c%26pd_rd_w%3Dow7XE%26pd_rd_wg%3DIvpE9%26pf_rd_p%3D7d3565f6-486c-4f98-bc2a-f2305ada855d%26pf_rd_r%3D7DRVJBPP23MCNFV3D64S%26qid%3D1678364587%26sbo%3DRZvfv%252F%252FHxDF%252BO5021pAnSA%253D%253D%26sprefix%3Dcamer%252Caps%252C560%26sr%3D1-1-a43b4223-fbe9-48b0-af69-6d70cf84978b-spons%26psc%3D1\"><span class=\"a-size-base-plus a-color-base a-text-normal\">Desuccus Kids Camera Toddler Toys Christmas Birthday Gifts for Boys and Girls Kids Toys 3-9 Year Old HD Video Digital Video Camera for Toddler 5 Puzzle Games with 32GB SD Card (Blue)</span> </a>,\n",
       " <a class=\"a-link-normal s-underline-text s-underline-link-text s-link-style a-text-normal\" href=\"/gp/slredirect/picassoRedirect.html/ref=pa_sp_search_thematic_aps_sr_pg1_2?ie=UTF8&amp;bwType=search&amp;bwAsin=B0B754K6Y8&amp;qualifier=1678364587&amp;id=1556539800677712&amp;widgetName=sp_search_thematic&amp;url=%2FDigital-Compact-Portable-Students-Seniors%2Fdp%2FB0B754K6Y8%2Fref%3Dsxin_18_pa_sp_search_thematic_sspa%3Fcontent-id%3Damzn1.sym.7d3565f6-486c-4f98-bc2a-f2305ada855d%253Aamzn1.sym.7d3565f6-486c-4f98-bc2a-f2305ada855d%26crid%3D32X3CX00DA652%26cv_ct_cx%3Dcamera%26keywords%3Dcamera%26pd_rd_i%3DB0B754K6Y8%26pd_rd_r%3D0bf4cf61-d4ad-4c33-afac-87f1a702518c%26pd_rd_w%3Dow7XE%26pd_rd_wg%3DIvpE9%26pf_rd_p%3D7d3565f6-486c-4f98-bc2a-f2305ada855d%26pf_rd_r%3D7DRVJBPP23MCNFV3D64S%26qid%3D1678364587%26sbo%3DRZvfv%252F%252FHxDF%252BO5021pAnSA%253D%253D%26sprefix%3Dcamer%252Caps%252C560%26sr%3D1-2-a43b4223-fbe9-48b0-af69-6d70cf84978b-spons%26psc%3D1\"><span class=\"a-size-base-plus a-color-base a-text-normal\">Digital Camera, FHD 1080P Digital Camera for Kids Video Camera with 32GB SD Card 16X Digital Zoom, Compact Point and Shoot Camera Portable Small Camera for Teens Students Boys Girls Seniors(Black)</span> </a>,\n",
       " <a class=\"a-link-normal s-underline-text s-underline-link-text s-link-style a-text-normal\" href=\"/gp/slredirect/picassoRedirect.html/ref=pa_sp_search_thematic_aps_sr_pg1_3?ie=UTF8&amp;bwType=search&amp;bwAsin=B07C2Z21X5&amp;qualifier=1678364587&amp;id=1556539800677712&amp;widgetName=sp_search_thematic&amp;url=%2FCanon-Rebel-T7-18-55mm-II%2Fdp%2FB07C2Z21X5%2Fref%3Dsxin_18_pa_sp_search_thematic_sspa%3Fcontent-id%3Damzn1.sym.7d3565f6-486c-4f98-bc2a-f2305ada855d%253Aamzn1.sym.7d3565f6-486c-4f98-bc2a-f2305ada855d%26crid%3D32X3CX00DA652%26cv_ct_cx%3Dcamera%26keywords%3Dcamera%26pd_rd_i%3DB07C2Z21X5%26pd_rd_r%3D0bf4cf61-d4ad-4c33-afac-87f1a702518c%26pd_rd_w%3Dow7XE%26pd_rd_wg%3DIvpE9%26pf_rd_p%3D7d3565f6-486c-4f98-bc2a-f2305ada855d%26pf_rd_r%3D7DRVJBPP23MCNFV3D64S%26qid%3D1678364587%26sbo%3DRZvfv%252F%252FHxDF%252BO5021pAnSA%253D%253D%26sprefix%3Dcamer%252Caps%252C560%26sr%3D1-3-a43b4223-fbe9-48b0-af69-6d70cf84978b-spons%26psc%3D1\"><span class=\"a-size-base-plus a-color-base a-text-normal\">Canon EOS Rebel T7 DSLR Camera with 18-55mm Lens | Built-in Wi-Fi | 24.1 MP CMOS Sensor | DIGIC 4+ Image Processor and Full HD Videos</span> </a>,\n",
       " <a class=\"a-link-normal s-underline-text s-underline-link-text s-link-style a-text-normal\" href=\"/gp/slredirect/picassoRedirect.html/ref=pa_sp_search_thematic_aps_sr_pg1_4?ie=UTF8&amp;bwType=search&amp;bwAsin=B085282C1R&amp;qualifier=1678364587&amp;id=1556539800677712&amp;widgetName=sp_search_thematic&amp;url=%2FFujifilm-Instax-Mini-Instant-Camera%2Fdp%2FB085282C1R%2Fref%3Dsxin_18_pa_sp_search_thematic_sspa%3Fcontent-id%3Damzn1.sym.7d3565f6-486c-4f98-bc2a-f2305ada855d%253Aamzn1.sym.7d3565f6-486c-4f98-bc2a-f2305ada855d%26crid%3D32X3CX00DA652%26cv_ct_cx%3Dcamera%26keywords%3Dcamera%26pd_rd_i%3DB085282C1R%26pd_rd_r%3D0bf4cf61-d4ad-4c33-afac-87f1a702518c%26pd_rd_w%3Dow7XE%26pd_rd_wg%3DIvpE9%26pf_rd_p%3D7d3565f6-486c-4f98-bc2a-f2305ada855d%26pf_rd_r%3D7DRVJBPP23MCNFV3D64S%26qid%3D1678364587%26sbo%3DRZvfv%252F%252FHxDF%252BO5021pAnSA%253D%253D%26sprefix%3Dcamer%252Caps%252C560%26sr%3D1-4-a43b4223-fbe9-48b0-af69-6d70cf84978b-spons%26psc%3D1\"><span class=\"a-size-base-plus a-color-base a-text-normal\">Fujifilm Instax Mini 11 Instant Camera - Blush Pink 4.8\" x 4.2\" x 2.6\"</span> </a>,\n",
       " <a class=\"a-link-normal s-underline-text s-underline-link-text s-link-style a-text-normal\" href=\"/gp/slredirect/picassoRedirect.html/ref=pa_sp_search_thematic_aps_sr_pg1_5?ie=UTF8&amp;bwType=search&amp;bwAsin=B0BTM7KMVM&amp;qualifier=1678364587&amp;id=1556539800677712&amp;widgetName=sp_search_thematic&amp;url=%2FCamera-Man-DC-Smith-Investigation-ebook%2Fdp%2FB0BTM7KMVM%2Fref%3Dsxin_18_pa_sp_search_thematic_sspa%3Fcontent-id%3Damzn1.sym.7d3565f6-486c-4f98-bc2a-f2305ada855d%253Aamzn1.sym.7d3565f6-486c-4f98-bc2a-f2305ada855d%26crid%3D32X3CX00DA652%26cv_ct_cx%3Dcamera%26keywords%3Dcamera%26pd_rd_i%3DB0BTM7KMVM%26pd_rd_r%3D0bf4cf61-d4ad-4c33-afac-87f1a702518c%26pd_rd_w%3Dow7XE%26pd_rd_wg%3DIvpE9%26pf_rd_p%3D7d3565f6-486c-4f98-bc2a-f2305ada855d%26pf_rd_r%3D7DRVJBPP23MCNFV3D64S%26qid%3D1678364587%26sbo%3D0oPp5w93%252FdZvu%252Bv9k%252B4HBA%253D%253D%26sprefix%3Dcamer%252Caps%252C560%26sr%3D1-5-a43b4223-fbe9-48b0-af69-6d70cf84978b-spons%26psc%3D1\"><span class=\"a-size-base-plus a-color-base a-text-normal\">The Camera Man: A DC Smith Investigation</span> </a>,\n",
       " <a class=\"a-link-normal s-underline-text s-underline-link-text s-link-style a-text-normal\" href=\"/VJIANGER-Photography-Vlogging-Batteries-W02-Black2/dp/B0BHZBPYHF/ref=sr_1_4?crid=32X3CX00DA652&amp;keywords=camera&amp;qid=1678364587&amp;sprefix=camer%2Caps%2C560&amp;sr=8-4\"><span class=\"a-size-medium a-color-base a-text-normal\">VJIANGER Digital Camera for Photography 4K 48MP Vlogging Camera for YouTube with WiFi, 16X Digital Zoom, 52mm Wide Angle &amp; Macro Lens, 2 Batteries, 32GB TF Card(W02-Black2)</span> </a>,\n",
       " <a class=\"a-link-normal s-underline-text s-underline-link-text s-link-style a-text-normal\" href=\"/Digital-VJIANGER-Vlogging-Aldults-Batteries/dp/B0B9GTN77Q/ref=sr_1_5?crid=32X3CX00DA652&amp;keywords=camera&amp;qid=1678364587&amp;sprefix=camer%2Caps%2C560&amp;sr=8-5\"><span class=\"a-size-medium a-color-base a-text-normal\">Digital Camera with 32GB SD Card, VJIANGER 4K 48MP Vlogging Camera with 2.8\" Screen, 16X Digital Zoom, Mini Point and Shoot Camera for Kids Tees Aldults with 2 Batteries &amp;Tripod(DC6-6 Silver)</span> </a>,\n",
       " <a class=\"a-link-normal s-underline-text s-underline-link-text s-link-style a-text-normal\" href=\"/Digital-Photograohy-VJIANGER-Vlogging-Batteries/dp/B0BHZ9RC89/ref=sr_1_6?crid=32X3CX00DA652&amp;keywords=camera&amp;qid=1678364587&amp;sprefix=camer%2Caps%2C560&amp;sr=8-6\"><span class=\"a-size-medium a-color-base a-text-normal\">Digital Camera for Photograohy and Video VJIANGER 4K 48MP WiFi Vlogging Camera with 180° Flip Screen, 16X Digital Zoom, 52mm Wide Angle &amp; Macro Lens, 2 Batteries and 32GB TF Card(W02 Black3)</span> </a>,\n",
       " <a class=\"a-link-normal s-underline-text s-underline-link-text s-link-style a-text-normal\" href=\"/KODAK-Reusable-Focus-Free-Lightweight-Included/dp/B0B1J582SJ/ref=sr_1_7?crid=32X3CX00DA652&amp;keywords=camera&amp;qid=1678364587&amp;sprefix=camer%2Caps%2C560&amp;sr=8-7\"><span class=\"a-size-medium a-color-base a-text-normal\">KODAK EKTAR H35 Half Frame Film Camera, 35mm, Reusable, Focus-Free, Lightweight, Easy-to-Use (Sage) (Film &amp; AAA Battery are not Included)</span> </a>,\n",
       " <a class=\"a-link-normal s-underline-text s-underline-link-text s-link-style a-text-normal\" href=\"/FHD1080P-Minutes-Security-Classroom-Learning/dp/B0BFX25MKS/ref=sr_1_8?crid=32X3CX00DA652&amp;keywords=camera&amp;qid=1678364587&amp;sprefix=camer%2Caps%2C560&amp;sr=8-8\"><span class=\"a-size-medium a-color-base a-text-normal\">32GB Hidden Camera, Spy Camera, Pen Camera with FHD1080P, Nanny Cam with 180 Minutes Battery Life, Body Camera for Home Security or Classroom Learning</span> </a>,\n",
       " <a class=\"a-link-normal s-underline-text s-underline-link-text s-link-style a-text-normal\" href=\"/Digital-with16X-Compact-Students-Seniors%EF%BC%88Black1%EF%BC%89/dp/B0BJV8ZQRG/ref=sr_1_9?crid=32X3CX00DA652&amp;keywords=camera&amp;qid=1678364587&amp;sprefix=camer%2Caps%2C560&amp;sr=8-9\"><span class=\"a-size-medium a-color-base a-text-normal\">Digital Camera for Kids Teens Boys Girls Adults 4K 44MP with 32GB SD Card, 2.4 Inch Point and Shoot Camera with16X Digital Zoom, Compact Mini Camera Kids Camera for Students Seniors（Black1）</span> </a>,\n",
       " <a class=\"a-link-normal s-underline-text s-underline-link-text s-link-style a-text-normal\" href=\"/Digital-Compact-Portable-Beginners-Battery/dp/B0BQVC3M73/ref=sr_1_10?crid=32X3CX00DA652&amp;keywords=camera&amp;qid=1678364587&amp;sprefix=camer%2Caps%2C560&amp;sr=8-10\"><span class=\"a-size-medium a-color-base a-text-normal\">2.7K Digital Camera 30MP Compact Camera Portable Camera for Boys, Girls,Adult,Beginners (with 32GB SD Card and 2 Battery)</span> </a>,\n",
       " <a class=\"a-link-normal s-underline-text s-underline-link-text s-link-style a-text-normal\" href=\"/UIKICON-Digital-Portable-Students-Girls-Pink/dp/B0B9MD3Y2N/ref=sr_1_11?crid=32X3CX00DA652&amp;keywords=camera&amp;qid=1678364587&amp;sprefix=camer%2Caps%2C560&amp;sr=8-11\"><span class=\"a-size-medium a-color-base a-text-normal\">UIKICON Digital Camera,FHD 4K 44MP Kids Camera Video Camera with 32GB SD Card 16X Digital Zoom, Compact Point and Shoot Camera Portable Small Camera for Teens Students Boys Girls-Pink</span> </a>,\n",
       " <a class=\"a-link-normal s-underline-text s-underline-link-text s-link-style a-text-normal\" href=\"/ARNSSIEN-180%C2%B0Flip-Children-Playback-Christmas/dp/B0BG55YRZW/ref=sr_1_12?crid=32X3CX00DA652&amp;keywords=camera&amp;qid=1678364587&amp;sprefix=camer%2Caps%2C560&amp;sr=8-12\"><span class=\"a-size-medium a-color-base a-text-normal\">Kid Camera,ARNSSIEN Camera for Kid,2.4in IPS Screen Digital Camera,180°Flip Len Student Camera,Children Selfie Camera with Playback Game,Christmas/Birthday Gift for 4 5 6 7 8 9 10 11 Year Old Girl Boy</span> </a>,\n",
       " <a class=\"a-link-normal s-underline-text s-underline-link-text s-link-style a-text-normal\" href=\"/Photography-Autofocus-Anti-Shake-Vlogging-Batteries/dp/B0BCPCSTNB/ref=sr_1_13?crid=32X3CX00DA652&amp;keywords=camera&amp;qid=1678364587&amp;sprefix=camer%2Caps%2C560&amp;sr=8-13\"><span class=\"a-size-medium a-color-base a-text-normal\">4K Digital Camera for Photography and Video [Autofocus &amp; Anti-Shake] 48MP Vlogging Camera with SD Card, 3'' 180° Flip Screen Compact Camera with Flash, 16X Digital Zoom Travel Camera (2 Batteries)</span> </a>,\n",
       " <a class=\"a-link-normal s-underline-text s-underline-link-text s-link-style a-text-normal\" href=\"/Kasa-Smart-Home-Security-Camera/dp/B08GHX9G5L/ref=sr_1_14?crid=32X3CX00DA652&amp;keywords=camera&amp;qid=1678364587&amp;sprefix=camer%2Caps%2C560&amp;sr=8-14\"><span class=\"a-size-medium a-color-base a-text-normal\">Kasa Indoor Pan/Tilt Smart Security Camera, 1080p HD Dog Camera 2.4GHz with Night Vision, Motion Detection for Baby and Pet Monitor, Cloud &amp; SD Card Storage, Works with Alexa &amp; Google Home (EC70)</span> </a>,\n",
       " <a class=\"a-link-normal s-underline-text s-underline-link-text s-link-style a-text-normal\" href=\"/Blink-Mini-White-1Cam/dp/B07X6C9RMF/ref=sr_1_15?crid=32X3CX00DA652&amp;keywords=camera&amp;qid=1678364587&amp;sprefix=camer%2Caps%2C560&amp;sr=8-15\"><span class=\"a-size-medium a-color-base a-text-normal\">Blink Mini – Compact indoor plug-in smart security camera, 1080p HD video, night vision, motion detection, two-way audio, easy set up, Works with Alexa – 1 camera (White)</span> </a>,\n",
       " <a class=\"a-link-normal s-underline-text s-underline-link-text s-link-style a-text-normal\" href=\"/Saneen-Photography-Beginners-Rechargeable-Batteries/dp/B0B5N4CPHS/ref=sr_1_16?crid=32X3CX00DA652&amp;keywords=camera&amp;qid=1678364587&amp;sprefix=camer%2Caps%2C560&amp;sr=8-16\"><span class=\"a-size-medium a-color-base a-text-normal\">Saneen Digital Camera, 4K &amp; 56MP Cameras for Photography, Small &amp; Compact Vlogging Video Camera for Teens, Kids, Beginners, Equipped with 16X Digital Zoom, 32GB SD Card &amp; 2 Rechargeable Batteries</span> </a>]"
      ]
     },
     "execution_count": 34,
     "metadata": {},
     "output_type": "execute_result"
    }
   ],
   "source": [
    "links"
   ]
  },
  {
   "cell_type": "code",
   "execution_count": 37,
   "id": "7e56fd4f",
   "metadata": {},
   "outputs": [],
   "source": [
    "link = links[0].get('href')"
   ]
  },
  {
   "cell_type": "code",
   "execution_count": 38,
   "id": "36083e8f",
   "metadata": {},
   "outputs": [],
   "source": [
    "product_list = 'https://amazon.com' + link "
   ]
  },
  {
   "cell_type": "code",
   "execution_count": 39,
   "id": "a31499ca",
   "metadata": {},
   "outputs": [
    {
     "data": {
      "text/plain": [
       "'https://amazon.com/Digital-Compact-Portable-Students-Seniors/dp/B0B754K6Y8/ref=sr_1_1?crid=32X3CX00DA652&keywords=camera&qid=1678364587&sprefix=camer%2Caps%2C560&sr=8-1'"
      ]
     },
     "execution_count": 39,
     "metadata": {},
     "output_type": "execute_result"
    }
   ],
   "source": [
    "product_list"
   ]
  }
 ],
 "metadata": {
  "kernelspec": {
   "display_name": "Python 3 (ipykernel)",
   "language": "python",
   "name": "python3"
  },
  "language_info": {
   "codemirror_mode": {
    "name": "ipython",
    "version": 3
   },
   "file_extension": ".py",
   "mimetype": "text/x-python",
   "name": "python",
   "nbconvert_exporter": "python",
   "pygments_lexer": "ipython3",
   "version": "3.9.12"
  }
 },
 "nbformat": 4,
 "nbformat_minor": 5
}
